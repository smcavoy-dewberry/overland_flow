{
 "cells": [
  {
   "cell_type": "code",
   "execution_count": 2,
   "metadata": {},
   "outputs": [
    {
     "ename": "ModuleNotFoundError",
     "evalue": "No module named 'arcpy'",
     "output_type": "error",
     "traceback": [
      "\u001b[1;31m---------------------------------------------------------------------------\u001b[0m",
      "\u001b[1;31mModuleNotFoundError\u001b[0m                       Traceback (most recent call last)",
      "\u001b[1;32m<ipython-input-2-c70e4e6734af>\u001b[0m in \u001b[0;36m<module>\u001b[1;34m\u001b[0m\n\u001b[1;32m----> 1\u001b[1;33m \u001b[1;32mimport\u001b[0m \u001b[0marcpy\u001b[0m\u001b[1;33m\u001b[0m\u001b[1;33m\u001b[0m\u001b[0m\n\u001b[0m\u001b[0;32m      2\u001b[0m \u001b[1;32mimport\u001b[0m \u001b[0mnumpy\u001b[0m \u001b[1;32mas\u001b[0m \u001b[0mnp\u001b[0m\u001b[1;33m\u001b[0m\u001b[1;33m\u001b[0m\u001b[0m\n\u001b[0;32m      3\u001b[0m \u001b[0mk\u001b[0m\u001b[1;33m\u001b[0m\u001b[1;33m\u001b[0m\u001b[0m\n",
      "\u001b[1;31mModuleNotFoundError\u001b[0m: No module named 'arcpy'"
     ]
    }
   ],
   "source": [
    "import arcpy\n",
    "import numpy as np\n"
   ]
  },
  {
   "cell_type": "code",
   "execution_count": null,
   "metadata": {},
   "outputs": [],
   "source": [
    "huc = '04120104'\n",
    "watershed_boundary = r\"C:\\Users\\smcavoy\\Documents\\ArcGIS\\Packages\\archydro_04120104_A069F740-ADE6-4E5A-A7CB-7538AA6503C9\\commondata\\105_huc04120104\\HUC_Boundary.shp\"\n",
    "dem_mask = r\"C:\\Users\\smcavoy\\Documents\\ArcGIS\\Packages\\archydro_04120104_A069F740-ADE6-4E5A-A7CB-7538AA6503C9\\commondata\\raster_data1\\dem_3dep_mask.tif\"\n",
    "fac = r\"C:\\Users\\smcavoy\\Documents\\ArcGIS\\Packages\\archydro_04120104_A069F740-ADE6-4E5A-A7CB-7538AA6503C9\\commondata\\raster_data\\w1_fac\"\n",
    "catchment = r\"C:\\Users\\smcavoy\\Documents\\ArcGIS\\Packages\\archydro_04120104_A069F740-ADE6-4E5A-A7CB-7538AA6503C9\\v107\\archydro_04120104.gdb\\W1_Catchment\"\n",
    "Str = r\"C:\\Users\\smcavoy\\Documents\\ArcGIS\\Packages\\archydro_04120104_A069F740-ADE6-4E5A-A7CB-7538AA6503C9\\commondata\\raster_data\\w1_str\"\n",
    "dem_fill = r\"C:\\Users\\smcavoy\\Documents\\ArcGIS\\Packages\\archydro_04120104_A069F740-ADE6-4E5A-A7CB-7538AA6503C9\\commondata\\raster_data\\w1_fil\"\n",
    "fdrstradj = r\"C:\\Users\\smcavoy\\Documents\\ArcGIS\\Packages\\archydro_04120104_A069F740-ADE6-4E5A-A7CB-7538AA6503C9\\commondata\\raster_data\\w1_fdrstradj\"\n",
    "county_boundary = r\"Y:\\CCSI\\TECH\\NYS DEC\\SB299\\SC813 WO11_CRRA_Support\\ANALYSIS\\Task_Hybrid\\102_Predictors\\104_Boundaries\\101_Counties\\Boundaries_TwoCounties_UTM18.shp\"\n",
    "\n",
    "fp_0_2pct = r\"P:\\02\\NY\\R2_BLE_Discovery\\DELIVERABLES\\04120104_Niagara\\FloodplainMapping\\Spatial_Files\\BLE_04120104.gdb\\FP_0_2PCT\"\n",
    "fp_01pct = r\"P:\\02\\NY\\R2_BLE_Discovery\\DELIVERABLES\\04120104_Niagara\\FloodplainMapping\\Spatial_Files\\BLE_04120104.gdb\\BLE_WSE01PCT\"\n",
    "water_inventory = r\"Y:\\CCSI\\TECH\\NYS DEC\\SB299\\SC813 WO11_CRRA_Support\\ANALYSIS\\Task_Hybrid\\102_Predictors\\101_Predictor_Vars\\WaterInventory_PriorityWaterbodies\\nysdec_wipwl\\c04120104_Lakes_Streams.tif\"\n",
    "\n",
    "waterbodies = r\"C:\\Users\\smcavoy\\Documents\\CRRA_Working_FlowDir\\NHD_H_New_York_State_GDB\\NHD_H_New_York_State_GDB.gdb\\NHDWaterbody\"\n",
    "prism = r\"Y:\\CCSI\\TECH\\NYS DEC\\SB299\\SC813 WO11_CRRA_Support\\ANALYSIS\\Task_Hybrid\\102_Predictors\\101_Predictor_Vars\\PRISM\\PRISM_ppt_30yr_normal_4kmM2_annual_asc\\PRISM_ppt_30yr_normal_4kmM2_annual_asc.asc\"\n",
    "natsgo = r\"Y:\\CCSI\\TECH\\NYS DEC\\SB299\\SC813 WO11_CRRA_Support\\ANALYSIS\\Task_Hybrid\\102_Predictors\\101_Predictor_Vars\\NATSGO\\MapunitRaster_10m_UTM18N.tif\"\n",
    "nlcd = r\"Y:\\CCSI\\TECH\\NYS DEC\\SB299\\SC813 WO11_CRRA_Support\\ANALYSIS\\Task_Hybrid\\102_Predictors\\101_Predictor_Vars\\NLCD2016\\nlcd2016_ny_UTM18NAD_clipped_10m.tif\"\n",
    "\n",
    "\n",
    "workspace = r\"C:\\Users\\smcavoy\\Documents\\CRRA_Working_FlowDir\\ArcHydroDone\\HUC104\\postArcHydro\"\n",
    "\n",
    "arcpy.env.workspace = workspace\n",
    "arcpy.env.snapRaster = dem_mask\n",
    "arcpy.env.cellSize = dem_mask\n",
    "arcpy.env.outputCoordinateSystem = dem_mask\n",
    "arcpy.env.extent = dem_mask \n",
    "arcpy.env.overwriteOutput = True "
   ]
  },
  {
   "cell_type": "code",
   "execution_count": null,
   "metadata": {},
   "outputs": [],
   "source": [
    "#step 12\n",
    "#Raster calculator to converrt the flow accumulation values into square miles\n",
    "drainageArea = arcpy.sa.Raster(fac) / 25900.0\n",
    "drainageArea.save(f\"{huc}_DrainageArea_sqmi.tif\")"
   ]
  },
  {
   "cell_type": "code",
   "execution_count": null,
   "metadata": {},
   "outputs": [],
   "source": [
    "#step 13\n",
    "#Zonal statistics on the drainage area sq mi with zones = Catchment polygons\n",
    "zonalst = arcpy.sa.ZonalStatistics(catchment, \"GridID\", drainageArea, \"MAXIMUM\")\n",
    "zonalst.save(f\"{huc}_Catchment_DAsqmi.tif\")"
   ]
  },
  {
   "cell_type": "code",
   "execution_count": null,
   "metadata": {},
   "outputs": [],
   "source": [
    "#step 16\n",
    "#raster calculator \n",
    "streams_calc = arcpy.sa.SetNull(drainageArea, Str, \"Value < 1\")\n",
    "streams_calc.save(\"streams_setnull.tif\")"
   ]
  },
  {
   "cell_type": "code",
   "execution_count": null,
   "metadata": {},
   "outputs": [],
   "source": [
    "#step 16.5\n",
    "#raster to polyline the trimmed stream grid\n",
    "stream_trim = arcpy.RasterToPolyline_conversion(streams_calc, \"Str_onesqmi.shp\")\n",
    "arcpy.CopyFeatures_management(\"Str_onesqmi.shp\", workspace+f\"\\{huc}_Str_onesqmi.shp\")"
   ]
  },
  {
   "cell_type": "code",
   "execution_count": null,
   "metadata": {},
   "outputs": [],
   "source": [
    "#step 17\n",
    "#only select NHD waterbodies f they intersect streams; only include Estuary, Reservior, LakePond\n",
    "wb_clip = arcpy.Clip_analysis(waterbodies, watershed_boundary, \"wb_clip.shp\" )\n",
    "\n",
    "wb_select1 = arcpy.SelectLayerByAttribute_management(wb_clip, \"NEW_SELECTION\", \n",
    "                                                     \"FTYPE = 390 OR FTYPE = 436 OR FTYPE = 493\")\n",
    "\n",
    "wb_copy = arcpy.CopyFeatures_management(wb_select1, \"wb_select1.shp\")\n",
    "\n",
    "wb_select2 = arcpy.SelectLayerByLocation_management(wb_copy, \n",
    "                                                    \"INTERSECT\", \n",
    "                                                    workspace+f\"\\{huc}_Str_onesqmi.shp\")\n",
    "wb = arcpy.CopyFeatures_management(wb_select2, f\"{huc}_waterbodies.shp\")"
   ]
  },
  {
   "cell_type": "code",
   "execution_count": null,
   "metadata": {},
   "outputs": [],
   "source": [
    "#step 18\n",
    "#turn waterbodies polygon into a raster\n",
    "wb_addfield = arcpy.AddField_management(wb, \"IS_water\", \"SHORT\")\n",
    "wb_calcfield = arcpy.CalculateField_management(wb_addfield, \"IS_water\", '1')\n",
    "\n",
    "wb_raster = arcpy.PolygonToRaster_conversion(wb_calcfield, \"IS_water\", workspace+f\"\\c{huc}_wb\" )"
   ]
  },
  {
   "cell_type": "code",
   "execution_count": null,
   "metadata": {},
   "outputs": [],
   "source": [
    "#mosaic the wb raster with the streams\n",
    "streams_lakes = arcpy.MosaicToNewRaster_management([arcpy.sa.Raster(streams_calc), arcpy.sa.Raster(wb_raster)], \n",
    "                                                   workspace, f\"{huc}_Str_ip.tif\",\n",
    "                                                  number_of_bands=1)\n",
    "sl_full = arcpy.sa.Con(arcpy.sa.IsNull(streams_lakes), 0, streams_lakes)\n",
    "sl_mask = arcpy.sa.ExtractByMask(sl_full, watershed_boundary)\n",
    "sl_mask.save(f\"{huc}_Str_Final.tif\")"
   ]
  },
  {
   "cell_type": "code",
   "execution_count": null,
   "metadata": {},
   "outputs": [],
   "source": [
    "#step 20a\n",
    "#identify subcatchments where BLE has been done\n",
    "catchment_copy = arcpy.CopyFeatures_management(catchment, \"catchment_copy.shp\")\n",
    "#catchment_addfield = arcpy.AddField_management(catchment_copy, \"hasBLE\", \"SHORT\")\n",
    "catchment_calcfield1 = arcpy.CalculateField_management(catchment_addfield, \"hasBLE\", \"0\")\n",
    "\n",
    "catchment_select = arcpy.SelectLayerByLocation_management(catchment_calcfield1, \"INTERSECT\", fp_0_2pct)\n",
    "catchment_calcfield2 = arcpy.CalculateField_management(catchment_select, \"hasBLE\", \"1\")\n",
    "\n",
    "#create a raster on field hasBLE\n",
    "hasBLE = arcpy.PolygonToRaster_conversion(\"catchment_copy.shp\", \"hasBLE\", \"hasBLE\")\n",
    "arcpy.sa.Raster(\"hasBLE\").save(f\"c{huc}_hasBLE.tif\")"
   ]
  },
  {
   "cell_type": "code",
   "execution_count": null,
   "metadata": {},
   "outputs": [],
   "source": [
    "#step 20b\n",
    "#calculate horizontal and vertical overland flow distance\n",
    "#flow distance tool\n",
    "void = arcpy.sa.FlowDistance(streams_lakes, dem_fill, distance_type= \"VERTICAL\")\n",
    "void.save(f\"{huc}_vofd.tif\")\n",
    "\n",
    "hoid = arcpy.sa.FlowDistance(streams_lakes, dem_fill, distance_type= \"HORIZONTAL\")\n",
    "hoid.save(f\"{huc}_hofd.tif\")"
   ]
  },
  {
   "cell_type": "code",
   "execution_count": null,
   "metadata": {},
   "outputs": [],
   "source": [
    "#step 21\n",
    "#stream order; use NOT truncated, NOT with lakes stream raster\n",
    "stream_order = arcpy.sa.StreamOrder(arcpy.sa.Raster(Str), fdrstradj, \"STRAHLER\")\n",
    "stream_order.save(f\"{huc}_stream_order_str.tif\")"
   ]
  },
  {
   "cell_type": "code",
   "execution_count": null,
   "metadata": {},
   "outputs": [],
   "source": [
    "#step 22\n",
    "#map stream order to subcatchment grid with zonal stats zones = Catchment\n",
    "stream_order_grid = arcpy.sa.ZonalStatistics(catchment, \"GridID\", stream_order, \"MAXIMUM\")\n",
    "stream_order_grid.save(f\"{huc}_stream_order_grid.tif\")"
   ]
  },
  {
   "cell_type": "code",
   "execution_count": null,
   "metadata": {},
   "outputs": [],
   "source": [
    "#step 22\n",
    "#PRISM Rainfall data ; resample first and then extract by mask\n",
    "\n",
    "prism_resample = arcpy.Resample_management(prism, \"prism_bbox\", \n",
    "                                           \"10\", \"BILINEAR\")\n",
    "\n",
    "prism_mask = arcpy.sa.ExtractByMask(\"prism_bbox\", watershed_boundary)\n",
    "prism_mask.save(f\"{huc}_prism_final.tif\")"
   ]
  },
  {
   "cell_type": "code",
   "execution_count": null,
   "metadata": {},
   "outputs": [],
   "source": [
    "#step 23\n",
    "#NATSGO - national soil data; map unit raster_10m\n",
    "natsgo_mask = arcpy.sa.ExtractByMask(arcpy.sa.Raster(natsgo), watershed_boundary)\n",
    "natsgo_mask.save(f\"{huc}_natsgo_final.tif\")"
   ]
  },
  {
   "cell_type": "code",
   "execution_count": null,
   "metadata": {},
   "outputs": [],
   "source": [
    "#step 24\n",
    "#national land cover ; nlcd2016_utm1bnd_clipped10m\n",
    "nlcd_mask = arcpy.sa.ExtractByMask(nlcd, watershed_boundary)\n",
    "nlcd_mask.save(f\"{huc}_nlcd_final.tif\")\n"
   ]
  },
  {
   "cell_type": "code",
   "execution_count": null,
   "metadata": {},
   "outputs": [],
   "source": [
    "#step 25\n",
    "#water inventory; reclassify and then extract by mask\n",
    "remap = arcpy.sa.RemapRange([[0, 0, 0], [0, 999999999999, 1]])\n",
    "wi_reclass = arcpy.sa.Reclassify(arcpy.sa.Raster(water_inventory), \"VALUE\", remap)\n",
    "\n",
    "wi_mask = arcpy.sa.ExtractByMask(wi_reclass, watershed_boundary)\n",
    "wi_mask.save(f\"{huc}_NYSDEC_StrLakes_Final.tif\")"
   ]
  },
  {
   "cell_type": "code",
   "execution_count": null,
   "metadata": {},
   "outputs": [],
   "source": [
    "#step 26\n",
    "#100 yr fp raster; resample, reclassify into binary, extract by mask\n",
    "resample100 = arcpy.Resample_management(arcpy.sa.Raster(fp_01pct), \"fp_01pct_res\", \"10\",\n",
    "                                        \"BILINEAR\")\n",
    "\n",
    "remap2 = arcpy.sa.RemapRange([[\"NoData\", \"NoData\", 0], [0, 9999999999, 1]])\n",
    "reclass100 = arcpy.sa.Reclassify(resample100, \"VALUE\", remap2)\n",
    "reclass100.save(\"fp_01pct_reclass.tif\")\n",
    "\n",
    "\n"
   ]
  },
  {
   "cell_type": "code",
   "execution_count": null,
   "metadata": {},
   "outputs": [],
   "source": [
    "#might have to refresh top cell block with workspace folder\n",
    "mask100 = arcpy.sa.ExtractByMask(\"fp_01pct_reclass.tif\", watershed_boundary)\n",
    "mask100.save(f\"{huc}_fp_01pct_final.tif\")"
   ]
  },
  {
   "cell_type": "code",
   "execution_count": null,
   "metadata": {},
   "outputs": [],
   "source": [
    "#step 27\n",
    "#run slope tool on dem mask\n",
    "slope = arcpy.sa.Slope(arcpy.sa.Raster(dem_mask), \"DEGREE\")\n",
    "slope.save(f\"{huc}_slope_Final.tif\")"
   ]
  },
  {
   "cell_type": "code",
   "execution_count": null,
   "metadata": {},
   "outputs": [],
   "source": [
    "#step 28\n",
    "#focal statistics window on dem mask\n",
    "focal = arcpy.sa.FocalStatistics(arcpy.sa.Raster(dem_mask), arcpy.sa.NbrRectangle(5, 5, \"CELL\"), \"STD\")\n",
    "focal.save(f\"{huc}_dem_5x5STD.tif\")\n"
   ]
  },
  {
   "cell_type": "code",
   "execution_count": null,
   "metadata": {},
   "outputs": [],
   "source": [
    "#step 29 - refresh top cell block\n",
    "#wetness topographic index; series of raster calculations\n",
    "slope_raster = arcpy.sa.Raster(workspace + f\"\\\\{huc}_slope_Final.tif\")\n",
    "slope_rad = (slope_raster * np.pi / 2.0) / 90.0\n",
    "\n",
    "con1 = arcpy.sa.Con(slope_rad > 0, arcpy.sa.Tan(slope_rad), .001)\n",
    "tan_slope_deg = arcpy.sa.Con(con1 > 0, con1, .001)\n",
    "\n",
    "fac_scaled = (arcpy.sa.Raster(fac) + 1) * 10.0 * 10.0\n",
    "\n",
    "final_calc = arcpy.sa.Ln(fac_scaled / tan_slope_deg)\n",
    "final_calc.save(f\"{huc}_WTI_Final.tif\")\n"
   ]
  },
  {
   "cell_type": "code",
   "execution_count": null,
   "metadata": {},
   "outputs": [],
   "source": []
  },
  {
   "cell_type": "code",
   "execution_count": null,
   "metadata": {},
   "outputs": [],
   "source": []
  },
  {
   "cell_type": "code",
   "execution_count": null,
   "metadata": {},
   "outputs": [],
   "source": []
  },
  {
   "cell_type": "code",
   "execution_count": null,
   "metadata": {},
   "outputs": [],
   "source": []
  },
  {
   "cell_type": "code",
   "execution_count": null,
   "metadata": {},
   "outputs": [],
   "source": [
    "\n"
   ]
  }
 ],
 "metadata": {
  "kernelspec": {
   "display_name": "Python 3",
   "language": "python",
   "name": "python3"
  },
  "language_info": {
   "codemirror_mode": {
    "name": "ipython",
    "version": 3
   },
   "file_extension": ".py",
   "mimetype": "text/x-python",
   "name": "python",
   "nbconvert_exporter": "python",
   "pygments_lexer": "ipython3",
   "version": "3.6.9"
  }
 },
 "nbformat": 4,
 "nbformat_minor": 2
}
